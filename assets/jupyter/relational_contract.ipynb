{
 "cells": [
  {
   "cell_type": "markdown",
   "id": "fe553003-b9cb-49eb-ad97-c724fc025ca7",
   "metadata": {},
   "source": [
    "# Relational contract with learning "
   ]
  },
  {
   "cell_type": "markdown",
   "id": "04fcaa93-24a8-4f65-b5eb-2afba5d9d949",
   "metadata": {},
   "source": [
    "I explain the relational contract model with learning.\n",
    "The model is largely based on the one in [Song and Ma, \"Relational Contracts in Well-Functioning Markets: Evidence from China's Vegetable Wholesale\"](https://megan-song.github.io/publication/song-2021-rc/), with several simplifications."
   ]
  },
  {
   "cell_type": "markdown",
   "id": "94f2dc83-4e25-4c95-9b53-02bd683012d1",
   "metadata": {},
   "source": [
    "## Set up "
   ]
  },
  {
   "cell_type": "markdown",
   "id": "b34d8eca-0e18-4359-b5d8-27536b2b5bcb",
   "metadata": {},
   "source": [
    "I consider risk-neutral buyers and sellers, who maximize their expected profits.\n",
    "In each period, a buyer buys a product, either (1) through the relational contract with a price $p^{RC}$, or (2) on the spot market with a price $p_t$, and sells it on the downstream market with a price $p^D$.\n",
    "The relational contract price is assumed to be constant over time.\n",
    "The spot market price is $p_t \\in [p_l, p_h]$, where $p_l$ and $p_h$ are the lower and upper bounds of the price, and the expected spot market price is $\\overline{p}$.\n",
    "The traded quantity is normalized to be $1$, and it is assumed that buyers on the spot market face a rate of being rationed, $\\phi \\in (0, 1)$.\n",
    "Buyers and sellers have a common time-discount factor, $\\delta < 1$."
   ]
  },
  {
   "cell_type": "markdown",
   "id": "922e8e02-1851-4300-a6d6-e5b32106365f",
   "metadata": {},
   "source": [
    "## Without learning"
   ]
  },
  {
   "cell_type": "markdown",
   "id": "0eeb73a4-332f-4bb4-b515-954fffa8bdc1",
   "metadata": {},
   "source": [
    "### Buyers"
   ]
  },
  {
   "cell_type": "markdown",
   "id": "72607322-b9ec-4fc2-aede-fdb2000a4c91",
   "metadata": {},
   "source": [
    "The per-period returns on the spot market and through the relational contract are $(p^D - p_t)(1 - \\phi)$ and $p^D - p^{RC}$, respectively.\n",
    "Hence, the net return from default for the buyers is\n",
    "$$\n",
    "    (p^D - p_t)(1 - \\phi) - (p^D - p^{RC}).\n",
    "$$\n",
    "The dynamic incentive compatibility constraint is\n",
    "\\begin{align*}\n",
    "    &\\qquad \\frac{\\delta}{1 - \\delta} \\left((p^D - p^{RC}) -  (p^D - \\overline{p})(1 - \\phi) \\right) \\ge (p^D - p_t)(1 - \\phi) - (p^D - p^{RC}) \\\\\n",
    "    &\\Leftrightarrow p^{RC} \\le p^D \\phi + (1 - \\phi) (\\delta \\overline{p} + (1 - \\delta) p_t).\n",
    "\\end{align*}\n",
    "Since this has to be satisfied in any state and $p_t \\ge p_l$, the most strict constraint version of this constraint is \n",
    "$$\n",
    "    p^{RC} \\le p^D \\phi + (1 - \\phi) (\\delta \\overline{p} + (1 - \\delta) p_l).\n",
    "$$"
   ]
  },
  {
   "cell_type": "markdown",
   "id": "9e1a5bb9-83cb-4b47-b4f1-dab139e57913",
   "metadata": {},
   "source": [
    "### Sellers"
   ]
  },
  {
   "cell_type": "markdown",
   "id": "8f9235d8-4aae-4325-bbc5-ce2494343908",
   "metadata": {},
   "source": [
    "The per-period profit on the spot market and through the relational contract are $p_t$ and $p^{RC}$, respectively.\n",
    "Hence, the net return from default for the sellers is\n",
    "$$\n",
    "    p_t - p^{RC}.\n",
    "$$\n",
    "The dynamic incentive compatibility constraint is \n",
    "\\begin{align*}\n",
    "    &\\qquad \\frac{\\delta}{1 - \\delta} \\left( p^{RC} - \\overline{p} \\right) \\ge p_t - p^{RC} \\\\\n",
    "    &\\Leftrightarrow p^{RC} \\ge \\delta \\overline{p} + (1 - \\delta) p_t.\n",
    "\\end{align*}\n",
    "This has to be satisfied in any state and since $p_t \\le p_h$, it is sufficient to consider the most strict constraint:\n",
    "$$\n",
    "    p^{RC} \\ge \\delta \\overline{p} + (1 - \\delta) p_h.\n",
    "$$"
   ]
  },
  {
   "cell_type": "markdown",
   "id": "c5c016e0-a822-4912-b36a-913436ceeebd",
   "metadata": {},
   "source": [
    "### Necessity to have $\\phi$"
   ]
  },
  {
   "cell_type": "markdown",
   "id": "278f290f-509f-448a-8cfe-5770b0dea7ae",
   "metadata": {},
   "source": [
    "Note that, for $p^{RC}$ satisfying both constraints to exist, we need\n",
    "$$\n",
    "    p^D \\phi + (1 - \\phi) (\\delta \\overline{p} + (1 - \\delta) p_l) \\ge \\delta \\overline{p} + (1 - \\delta) p_h,\n",
    "$$\n",
    "but if we do not have $\\phi$, or in other words, if $\\phi = 0$, then the left-hand side is $\\delta \\overline{p} + (1 - \\delta) p_l$.\n",
    "Clearly $\\delta \\overline{p} + (1 - \\delta) p_l < \\delta \\overline{p} + (1 - \\delta) p_h$, and hence, both conditions are not satisfied simultaneously without $\\phi$."
   ]
  },
  {
   "cell_type": "markdown",
   "id": "58ca9608-152c-492b-94f1-8eae331f735f",
   "metadata": {},
   "source": [
    "### Alternative cost on buyers' side"
   ]
  },
  {
   "cell_type": "markdown",
   "id": "bdc9fce2-fae2-453f-b804-90a72fd554d1",
   "metadata": {},
   "source": [
    "What if we have a transaction cost buyers have to pay for on the spot market, instead of rationing?\n",
    "Let the cost be $\\kappa \\ (> 0)$.\n",
    "The per-period returns on the spot market and through the relational contract are $p^D - p_t - \\kappa$ and $p^D - p^{RC}$, respectively.\n",
    "Hence, the net return from default for the buyers is\n",
    "$$\n",
    "    (p^D - p_t - \\kappa) - (p^D - p^{RC}).\n",
    "$$\n",
    "The dynamic incentive compatibility constraint is\n",
    "\\begin{align*}\n",
    "    &\\qquad \\frac{\\delta}{1 - \\delta} \\left((p^D - p^{RC}) -  (p^D - \\overline{p} - \\kappa) \\right) \\ge (p^D - p_t - \\kappa) - (p^D - p^{RC}) \\\\\n",
    "    &\\Leftrightarrow p^{RC} \\le \\delta \\overline{p} + (1 - \\delta) p_t + \\kappa.\n",
    "\\end{align*}\n",
    "Since this has to be satisfied in any state and $p_t \\ge p_l$, the most strict constraint version of this constraint is \n",
    "$$\n",
    "    p^{RC} \\le \\delta \\overline{p} + (1 - \\delta) p_l + \\kappa.\n",
    "$$\n",
    "Therefore, with a sufficiently large $\\kappa > 0$, there exist $p^{RC}$ which sustains the relational contract."
   ]
  },
  {
   "cell_type": "markdown",
   "id": "dff32a08-756b-43f3-9e14-bc2b4c068814",
   "metadata": {},
   "source": [
    "## With learning"
   ]
  },
  {
   "cell_type": "markdown",
   "id": "3d75a3f0-c8bc-4493-af97-ef8212c5b4d1",
   "metadata": {},
   "source": [
    "### Buyers"
   ]
  },
  {
   "cell_type": "markdown",
   "id": "5e14ef55-0719-401b-a21b-09e91b0c0114",
   "metadata": {},
   "source": [
    "Let $\\mu_t$ be the probability that a buyer believes the relational contract is kept at period $t$.\n",
    "This is updated every time the buyer observes that the contract is not reneged, based on the Bayes' theorem."
   ]
  },
  {
   "cell_type": "markdown",
   "id": "9c9d0c88-a447-4ec7-8ec4-2e12ab364f0a",
   "metadata": {},
   "source": [
    "Suppose that there are two types of sellers on the market.\n",
    "Type 1 sellers never default, whereas Type 2 sellers default at a probability $1 - \\lambda$.\n",
    "The probability of a seller being Type 1 is $\\theta$.\n",
    "\n",
    "A buyer updates his belief about the probability of the seller being Type 1.\n",
    "Let the initial belief be $\\theta$ and the belief after $n$ consecutive relational contract transactions be $\\theta_n \\equiv Pr (\\text{Type 1} | \\text{After $n$ consecutive relational contract transactions})$.\n",
    "Then, the posterior probability, $\\theta_n$, is\n",
    "$$\n",
    "    \\theta_n = \\frac{Pr(\\text{Type 1 \\& not reneged $n$ times in a row})}{Pr(\\text{Not reneged $n$ times in a row})}.\n",
    "$$\n",
    "Since the seller does not renege if he is Type 1, the numerator equals $Pr(\\text{Type 1}) = \\theta$.\n",
    "The denominator is \n",
    "\\begin{align*}\n",
    "    &\\quad Pr(\\text{Not reneged $n$ times in a row}) \\\\\n",
    "    &= Pr(\\text{Not reneged $n$ times in a row | Type 1}) Pr(\\text{Type 1}) + Pr(\\text{Not reneged $n$ times in a row | Type 2}) Pr(\\text{Type 2}) \\\\\n",
    "    &= \\theta + \\lambda^n (1 - \\theta).\n",
    "\\end{align*}\n",
    "Therefore, $\\theta_n = \\frac{\\theta}{\\theta + (1 - \\theta) \\lambda^n}$, and the probability of the relational contract being kept is $\\mu_t = \\theta_n + (1 - \\theta_n) \\lambda = \\frac{\\theta + (1 - \\theta) \\lambda^{n + 1}}{\\theta + (1 - \\theta) \\lambda^n} = \\lambda + \\frac{\\theta(1 - \\lambda)}{\\theta + (1 - \\theta) \\lambda^n}$, which is increasing in $n$."
   ]
  },
  {
   "cell_type": "markdown",
   "id": "fcad6174-a747-46ae-babc-a5198ba044db",
   "metadata": {},
   "source": [
    "To consider the buyer's expected discounted payoff under relational contracts, with learning taken into account, first consider the discounted payoff if reneged in $\\tau \\ge 1$ period:\n",
    "$$\n",
    "    \\sum_{s = 1}^{\\tau - 1} (p^D - p^{RC}) \\delta^s + \\sum_{s = \\tau}^{\\infty} (p^D - \\overline{p})(1 - \\phi) \\delta^s,\n",
    "$$\n",
    "where the first term is the discounted payoff from period 1 to $\\tau - 1$ through the relational contract, and the second term is the payoff from period $\\tau$ onward on the spot market.\n",
    "Here I let $\\sum_{s = 1}^{0} (p^D - p^{RC}) \\delta^s \\equiv 0$.\n",
    "The formula can be transformed as \n",
    "$$\n",
    "     (p^D - p^{RC}) \\frac{\\delta (1 - \\delta^{\\tau - 1})}{1 - \\delta} +  (p^D - \\overline{p})(1 - \\phi) \\frac{\\delta^{\\tau}}{1 - \\delta}.\n",
    "$$\n",
    "This occurs at probability $\\mu_t^{\\tau - 1} (1 - \\mu_t)$.\n",
    "\n",
    "Therefore, the expected discounted payoff under a relational contract is\n",
    "\\begin{align*}\n",
    "    &\\qquad \\sum_{\\tau=1}^{\\infty} \\left( (p^D - p^{RC}) \\frac{\\delta (1 - \\delta^{\\tau - 1})}{1 - \\delta} + (p^D - \\overline{p})(1 - \\phi) \\frac{\\delta^{\\tau}}{1 - \\delta} \\right) \\mu_t^{\\tau - 1} (1 - \\mu_t) \\\\\n",
    "    &= (p^D - p^{RC}) \\frac{\\delta}{1 - \\delta} (1 - \\mu_t) \\sum_{\\tau=1}^{\\infty} \\mu_t^{\\tau - 1} \\\\\n",
    "    &\\quad - (p^D - p^{RC}) \\frac{\\delta}{1 - \\delta} (1 - \\mu_t) \\sum_{\\tau=1}^{\\infty} (\\delta \\mu_t)^{\\tau - 1} \\\\\n",
    "    &\\quad + (p^D - \\overline{p})(1 - \\phi) \\frac{\\delta}{1 - \\delta} (1 - \\mu_t) \\sum_{\\tau=1}^{\\infty} (\\delta \\mu_t)^{\\tau - 1} \\\\\n",
    "    &= (p^D - p^{RC}) \\frac{\\delta \\mu_t}{1 - \\delta \\mu_t} + (p^D - \\overline{p})(1 - \\phi) \\frac{\\delta}{1 - \\delta} \\frac{1 - \\mu_t}{1 - \\delta \\mu_t}.\n",
    "\\end{align*}\n",
    "\n",
    "With this, the dynamic incentive compatibility constraint is\n",
    "\\begin{align*}\n",
    "    &\\qquad (p^D - p^{RC}) \\frac{\\delta \\mu_t}{1 - \\delta \\mu_t} + (p^D - \\overline{p})(1 - \\phi) \\frac{\\delta}{1 - \\delta} \\frac{1 - \\mu_t}{1 - \\delta \\mu_t} - \\frac{\\delta}{1 - \\delta} (p^D - \\overline{p})(1 - \\phi) \\ge (p^D - p_l)(1 - \\phi) - (p^D - p^{RC}) \\\\\n",
    "    &\\Leftrightarrow (p^D - p^{RC}) \\frac{\\delta \\mu_t}{1 - \\delta \\mu_t} - (p^D - \\overline{p})(1 - \\phi) \\frac{\\delta \\mu_t}{1 - \\delta \\mu_t} \\ge (p^D - p_l)(1 - \\phi) - (p^D - p^{RC}) \\\\\n",
    "    &\\Leftrightarrow p^{RC} \\le p^D \\phi + (1 - \\phi) (\\delta \\mu_t \\overline{p} + (1 - \\delta \\mu_t) p_l).\n",
    "\\end{align*}"
   ]
  },
  {
   "cell_type": "markdown",
   "id": "08373bd2-dcbe-48da-8d0c-13995aba5069",
   "metadata": {},
   "source": [
    "### Sellers"
   ]
  },
  {
   "cell_type": "markdown",
   "id": "a0995014-f7f5-40d3-8e52-576a6a20bc4d",
   "metadata": {},
   "source": [
    "I use the same probability of continuing a relational contract, $\\mu_t$, derived for buyers.\n",
    "\n",
    "To consider the seller's expected discounted payoff under relational contracts, with learning taken into account, first consider the discounted profit if reneged in $\\tau \\ge 1$ period:\n",
    "$$\n",
    "    \\sum_{s = 1}^{\\tau - 1} p^{RC} \\delta^s + \\sum_{s = \\tau}^{\\infty} \\overline{p} \\delta^s,\n",
    "$$\n",
    "where the first term is the discounted profit from period 1 to $\\tau - 1$ through the relational contract, and the second term is the profit from period $\\tau$ onward on the spot market.\n",
    "Here I let $\\sum_{s = 1}^{0} p^{RC} \\delta^s \\equiv 0$.\n",
    "The formula can be transformed as \n",
    "$$\n",
    "     p^{RC} \\frac{\\delta (1 - \\delta^{\\tau - 1})}{1 - \\delta} + \\overline{p} \\frac{\\delta^{\\tau}}{1 - \\delta}.\n",
    "$$\n",
    "This occurs at probability $\\mu_t^{\\tau - 1} (1 - \\mu_t)$.\n",
    "\n",
    "Therefore, the expected discounted payoff under a relational contract is\n",
    "\\begin{align*}\n",
    "    &\\qquad \\sum_{\\tau=1}^{\\infty} \\left( p^{RC} \\frac{\\delta (1 - \\delta^{\\tau - 1})}{1 - \\delta} + \\overline{p} \\frac{\\delta^{\\tau}}{1 - \\delta} \\right) \\mu_t^{\\tau - 1} (1 - \\mu_t) \\\\\n",
    "    &= p^{RC} \\frac{\\delta}{1 - \\delta} (1 - \\mu_t) \\sum_{\\tau=1}^{\\infty} \\mu_t^{\\tau - 1} \\\\\n",
    "    &\\quad - p^{RC} \\frac{\\delta}{1 - \\delta} (1 - \\mu_t) \\sum_{\\tau=1}^{\\infty} (\\delta \\mu_t)^{\\tau - 1} \\\\\n",
    "    &\\quad + \\overline{p} \\frac{\\delta}{1 - \\delta} (1 - \\mu_t) \\sum_{\\tau=1}^{\\infty} (\\delta \\mu_t)^{\\tau - 1} \\\\\n",
    "    &= p^{RC} \\frac{\\delta \\mu_t}{1 - \\delta \\mu_t} + \\overline{p} \\frac{\\delta}{1 - \\delta} \\frac{1 - \\mu_t}{1 - \\delta \\mu_t}.\n",
    "\\end{align*}\n",
    "\n",
    "With this, the dynamic incentive compatibility constraint is\n",
    "\\begin{align*}\n",
    "    &\\qquad p^{RC} \\frac{\\delta \\mu_t}{1 - \\delta \\mu_t} + \\overline{p} \\frac{\\delta}{1 - \\delta} \\frac{1 - \\mu_t}{1 - \\delta \\mu_t} - \\frac{\\delta}{1 - \\delta} \\overline{p} \\ge p_h - p^{RC} \\\\\n",
    "    &\\Leftrightarrow p^{RC} \\frac{\\delta \\mu_t}{1 - \\delta \\mu_t} - \\overline{p} \\frac{\\delta \\mu_t}{1 - \\delta \\mu_t} \\ge p_h - p^{RC} \\\\\n",
    "    &\\Leftrightarrow p^{RC} \\ge \\delta \\mu_t \\overline{p} + (1 - \\delta \\mu_t) p_h.\n",
    "\\end{align*}"
   ]
  },
  {
   "cell_type": "markdown",
   "id": "0604365d-39b6-4b94-8377-df04305dc490",
   "metadata": {},
   "source": [
    "### Importance of learning"
   ]
  },
  {
   "cell_type": "markdown",
   "id": "7796accf-b9b7-4b33-8231-d2f5d59ca866",
   "metadata": {},
   "source": [
    "There exists a contract price satisfying the constraints if\n",
    "\\begin{align*}\n",
    "    &\\qquad p^D \\phi + (1 - \\phi) (\\delta \\mu_t \\overline{p} + (1 - \\delta \\mu_t) p_l) \\ge \\delta \\mu_t \\overline{p} + (1 - \\delta \\mu_t) p_h \\\\\n",
    "    &\\Leftrightarrow \\mu_t \\ge \\frac{(p_h - p_l) - \\phi(p^D - p_l)}{\\delta \\left( (p_h - p_l) - \\phi(\\overline{p} - p_l) \\right)}.\n",
    "\\end{align*}\n",
    "\n",
    "Therefore, unless the belief about the probability of continuing relational contract is sufficiently high, a relational contract is not sustainable.\n",
    "If the only way to update the belief is actually participating the relational contract, this is difficult if the initial belief about the probability is low.\n",
    "If people can observe others' relational contracts and can update their belief about the type of a seller, or if a seller can establish a reputation as a good seller, then a relational contract may be initiated."
   ]
  }
 ],
 "metadata": {
  "kernelspec": {
   "display_name": "base_env",
   "language": "python",
   "name": "base_env"
  },
  "language_info": {
   "codemirror_mode": {
    "name": "ipython",
    "version": 3
   },
   "file_extension": ".py",
   "mimetype": "text/x-python",
   "name": "python",
   "nbconvert_exporter": "python",
   "pygments_lexer": "ipython3",
   "version": "3.9.18"
  }
 },
 "nbformat": 4,
 "nbformat_minor": 5
}
