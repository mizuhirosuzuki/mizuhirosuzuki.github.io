{
 "cells": [
  {
   "cell_type": "markdown",
   "id": "fe553003-b9cb-49eb-ad97-c724fc025ca7",
   "metadata": {},
   "source": [
    "# Relational contract with learning "
   ]
  },
  {
   "cell_type": "markdown",
   "id": "04fcaa93-24a8-4f65-b5eb-2afba5d9d949",
   "metadata": {},
   "source": [
    "I explain the relational contract model with learning.\n",
    "The model is largely based on the one in [Song and Ma, \"Relational Contracts in Well-Functioning Markets: Evidence from China's Vegetable Wholesale\"](https://megan-song.github.io/publication/song-2021-rc/), with several simplifications."
   ]
  },
  {
   "cell_type": "markdown",
   "id": "94f2dc83-4e25-4c95-9b53-02bd683012d1",
   "metadata": {},
   "source": [
    "## Set up "
   ]
  },
  {
   "cell_type": "markdown",
   "id": "b34d8eca-0e18-4359-b5d8-27536b2b5bcb",
   "metadata": {},
   "source": [
    "I consider risk-neutral buyers and sellers, who maximize their expected profits.\n",
    "In each period, a buyer buys a product, either (1) through the relational contract with a price $p_t^{RC}$, or (2) on the spot market with a price $p_t$, and sells it on the downstream market with a price $p^D$.\n",
    "The spot market price is $p_t$ and the expected spot market price is $\\overline{p}$.\n",
    "Assume that $p^D > p_t$, that is, buying on the spot market is always profitable.\n",
    "The traded quantity is normalized to be $1$, and it is assumed that buyers on the spot market face a rate of being rationed, $\\phi \\in (0, 1)$.\n",
    "Buyers and sellers have a common time-discount factor, $\\delta < 1$."
   ]
  },
  {
   "cell_type": "markdown",
   "id": "922e8e02-1851-4300-a6d6-e5b32106365f",
   "metadata": {},
   "source": [
    "## Without learning"
   ]
  },
  {
   "cell_type": "markdown",
   "id": "0eeb73a4-332f-4bb4-b515-954fffa8bdc1",
   "metadata": {},
   "source": [
    "### Buyers"
   ]
  },
  {
   "cell_type": "markdown",
   "id": "72607322-b9ec-4fc2-aede-fdb2000a4c91",
   "metadata": {},
   "source": [
    "The per-period returns on the spot market and through the relational contract are $(p^D - p_t)(1 - \\phi)$ and $p^D - p_t^{RC}$, respectively.\n",
    "Hence, the net return from default for the buyers is\n",
    "$$\n",
    "    (p^D - p_t)(1 - \\phi) - (p^D - p_t^{RC}).\n",
    "$$\n",
    "The dynamic incentive compatibility constraint is\n",
    "\\begin{align*}\n",
    "    &\\qquad \\frac{\\delta}{1 - \\delta} \\left((p^D - E[p_t^{RC}]) -  (p^D - \\overline{p})(1 - \\phi) \\right) \\ge (p^D - p_t)(1 - \\phi) - (p^D - p_t^{RC}) \\\\\n",
    "    &\\Leftrightarrow p_t^{RC} \\le \\frac{1}{1 - \\delta} \\phi p^D + (1 - \\phi) \\left( \\frac{\\delta}{1 - \\delta} \\overline{p} + p_t \\right) - \\frac{\\delta}{1 - \\delta} E [p_t^{RC}].\n",
    "\\end{align*}\n"
   ]
  },
  {
   "cell_type": "markdown",
   "id": "9e1a5bb9-83cb-4b47-b4f1-dab139e57913",
   "metadata": {},
   "source": [
    "### Sellers"
   ]
  },
  {
   "cell_type": "markdown",
   "id": "8f9235d8-4aae-4325-bbc5-ce2494343908",
   "metadata": {},
   "source": [
    "The per-period profit on the spot market and through the relational contract are $p_t$ and $p_t^{RC}$, respectively.\n",
    "Hence, the net return from default for the sellers is\n",
    "$$\n",
    "    p_t - p_t^{RC}.\n",
    "$$\n",
    "The dynamic incentive compatibility constraint is \n",
    "\\begin{align*}\n",
    "    &\\qquad \\frac{\\delta}{1 - \\delta} \\left( E[p_t^{RC}] - \\overline{p} \\right) \\ge p_t - p_t^{RC} \\\\\n",
    "    &\\Leftrightarrow p_t^{RC} \\ge p_t - \\frac{\\delta}{1 - \\delta} \\left( E[p_t^{RC}] - \\overline{p} \\right).\n",
    "\\end{align*}"
   ]
  },
  {
   "cell_type": "markdown",
   "id": "98fc18a0-3633-4e9c-9356-12a743a958a1",
   "metadata": {},
   "source": [
    "### Conditions when sellers take all the surpluses"
   ]
  },
  {
   "cell_type": "markdown",
   "id": "abecebef-ab75-4f41-858b-0c9bdfe7a126",
   "metadata": {},
   "source": [
    "Here I assume that the seller takes all the surpluses and hence the buyer's dynamic incentive compatibility constraint binds:\n",
    "$$\n",
    "    p_t^{RC} = \\frac{1}{1 - \\delta} \\phi p^D + (1 - \\phi) \\left( \\frac{\\delta}{1 - \\delta} \\overline{p} + p_t \\right) - \\frac{\\delta}{1 - \\delta} E [p_t^{RC}].\n",
    "$$\n",
    "So that the expected future relational contract price is consistent, take the expectations on both sides:\n",
    "\\begin{align*}\n",
    "    &\\quad E[p_t^{RC}] = \\frac{1}{1 - \\delta} \\phi p^D + (1 - \\phi) \\left( \\frac{\\delta}{1 - \\delta} \\overline{p} + \\overline{p} \\right) - \\frac{\\delta}{1 - \\delta} E [p_t^{RC}] \\\\\n",
    "    &\\Leftrightarrow E[p_t^{RC}] = \\phi p^D + (1 - \\phi) \\overline{p},\n",
    "\\end{align*}\n",
    "and then, from the binding incentive compatibility constraint,\n",
    "$$\n",
    "    p_t^{RC} = \\frac{1}{1 - \\delta} \\phi p^D + (1 - \\phi) \\left( \\frac{\\delta}{1 - \\delta} \\overline{p} + p_t \\right) - \\frac{\\delta}{1 - \\delta} \\left( \\phi p^D + (1 - \\phi) \\overline{p} \\right) = \\phi p^D + (1 - \\phi) p_t.\n",
    "$$\n"
   ]
  },
  {
   "cell_type": "markdown",
   "id": "1ced3455-7898-4c05-ae00-53c5a053827b",
   "metadata": {},
   "source": [
    "On the seller's side, the incentive compatibility constraint becomes\n",
    "$$\n",
    "    p_t^{RC} \\ge p_t - \\frac{\\delta \\phi }{1 - \\delta} \\left( p^D - \\overline{p} \\right),\n",
    "$$\n",
    "and this is satisfied if\n",
    "\\begin{align*}\n",
    "    &\\qquad \\phi p^D + (1 - \\phi) p_t \\ge p_t - \\frac{\\delta \\phi }{1 - \\delta} \\left( p^D - \\overline{p} \\right) \\\\\n",
    "    &\\Leftrightarrow \\phi \\left( \\left( p^D - p_t \\right) + \\frac{\\delta}{1 - \\delta} \\left(p^D - \\overline{p} \\right) \\right) \\ge 0.\n",
    "\\end{align*}\n",
    "Since $p^D > p_t$ and $p^D > \\overline{p}$, this always holds."
   ]
  },
  {
   "cell_type": "markdown",
   "id": "c5c016e0-a822-4912-b36a-913436ceeebd",
   "metadata": {},
   "source": [
    "### Importance of having $\\phi > 0$"
   ]
  },
  {
   "cell_type": "markdown",
   "id": "278f290f-509f-448a-8cfe-5770b0dea7ae",
   "metadata": {},
   "source": [
    "Note that, if we do not have $\\phi$, or in other words, if $\\phi = 0$, then \n",
    "$$\n",
    "    p_t^{RC} = p_t.\n",
    "$$\n",
    "That is, the relational contract price coincides with the spot market price.\n",
    "To have a wedge between the prices, having a cost is needed."
   ]
  },
  {
   "cell_type": "markdown",
   "id": "dff32a08-756b-43f3-9e14-bc2b4c068814",
   "metadata": {},
   "source": [
    "## With learning"
   ]
  },
  {
   "cell_type": "markdown",
   "id": "3d75a3f0-c8bc-4493-af97-ef8212c5b4d1",
   "metadata": {},
   "source": [
    "### Buyers"
   ]
  },
  {
   "cell_type": "markdown",
   "id": "5e14ef55-0719-401b-a21b-09e91b0c0114",
   "metadata": {},
   "source": [
    "Let $\\mu_t$ be the probability that a buyer believes the relational contract is kept at period $t$.\n",
    "This is updated every time the buyer observes that the contract is not reneged, based on the Bayes' theorem."
   ]
  },
  {
   "cell_type": "markdown",
   "id": "9c9d0c88-a447-4ec7-8ec4-2e12ab364f0a",
   "metadata": {},
   "source": [
    "Suppose that there are two types of sellers on the market.\n",
    "Type 1 sellers never default, whereas Type 2 sellers default at a probability $1 - \\lambda$.\n",
    "The probability of a seller being Type 1 is $\\theta$.\n",
    "\n",
    "A buyer updates his belief about the probability of the seller being Type 1.\n",
    "Let the initial belief be $\\theta$ and the belief after $n$ consecutive relational contract transactions be $\\theta_n \\equiv Pr (\\text{Type 1} | \\text{After $n$ consecutive relational contract transactions})$.\n",
    "Then, the posterior probability, $\\theta_n$, is\n",
    "$$\n",
    "    \\theta_n = \\frac{Pr(\\text{Type 1 & not reneged $n$ times in a row})}{Pr(\\text{Not reneged $n$ times in a row})}.\n",
    "$$\n",
    "Since the seller does not renege if he is Type 1, the numerator equals $Pr(\\text{Type 1}) = \\theta$.\n",
    "The denominator is \n",
    "\\begin{align*}\n",
    "    &\\quad Pr(\\text{Not reneged $n$ times in a row}) \\\\\n",
    "    &= Pr(\\text{Not reneged $n$ times in a row | Type 1}) Pr(\\text{Type 1}) + Pr(\\text{Not reneged $n$ times in a row | Type 2}) Pr(\\text{Type 2}) \\\\\n",
    "    &= \\theta + \\lambda^n (1 - \\theta).\n",
    "\\end{align*}\n",
    "Therefore, $\\theta_n = \\frac{\\theta}{\\theta + (1 - \\theta) \\lambda^n}$, and the probability of the relational contract being kept is $\\mu_t = \\theta_n + (1 - \\theta_n) \\lambda = \\frac{\\theta + (1 - \\theta) \\lambda^{n + 1}}{\\theta + (1 - \\theta) \\lambda^n} = \\lambda + \\frac{\\theta(1 - \\lambda)}{\\theta + (1 - \\theta) \\lambda^n}$, which is increasing in $n$."
   ]
  },
  {
   "cell_type": "markdown",
   "id": "fcad6174-a747-46ae-babc-a5198ba044db",
   "metadata": {},
   "source": [
    "To consider the buyer's expected discounted payoff under relational contracts, with learning taken into account, first consider the discounted payoff if reneged in $\\tau \\ge 1$ period:\n",
    "$$\n",
    "    \\sum_{s = 1}^{\\tau - 1} (p^D - E[p_t^{RC}]) \\delta^s + \\sum_{s = \\tau}^{\\infty} (p^D - \\overline{p})(1 - \\phi) \\delta^s,\n",
    "$$\n",
    "where the first term is the discounted payoff from period 1 to $\\tau - 1$ through the relational contract, and the second term is the payoff from period $\\tau$ onward on the spot market.\n",
    "Here I let $\\sum_{s = 1}^{0} (p^D - p^{RC}) \\delta^s \\equiv 0$.\n",
    "The formula can be transformed as \n",
    "$$\n",
    "     (p^D - E[p_t^{RC}]) \\frac{\\delta (1 - \\delta^{\\tau - 1})}{1 - \\delta} +  (p^D - \\overline{p})(1 - \\phi) \\frac{\\delta^{\\tau}}{1 - \\delta}.\n",
    "$$\n",
    "This occurs at probability $\\mu_t^{\\tau - 1} (1 - \\mu_t)$.\n",
    "\n",
    "Therefore, the expected discounted payoff under a relational contract is\n",
    "\\begin{align*}\n",
    "    &\\qquad \\sum_{\\tau=1}^{\\infty} \\left( (p^D - E[p_t^{RC}]) \\frac{\\delta (1 - \\delta^{\\tau - 1})}{1 - \\delta} + (p^D - \\overline{p})(1 - \\phi) \\frac{\\delta^{\\tau}}{1 - \\delta} \\right) \\mu_t^{\\tau - 1} (1 - \\mu_t) \\\\\n",
    "    &= (p^D - E[p_t^{RC}]) \\frac{\\delta}{1 - \\delta} (1 - \\mu_t) \\sum_{\\tau=1}^{\\infty} \\mu_t^{\\tau - 1} \\\\\n",
    "    &\\quad - (p^D - E[p_t^{RC}]) \\frac{\\delta}{1 - \\delta} (1 - \\mu_t) \\sum_{\\tau=1}^{\\infty} (\\delta \\mu_t)^{\\tau - 1} \\\\\n",
    "    &\\quad + (p^D - \\overline{p})(1 - \\phi) \\frac{\\delta}{1 - \\delta} (1 - \\mu_t) \\sum_{\\tau=1}^{\\infty} (\\delta \\mu_t)^{\\tau - 1} \\\\\n",
    "    &= (p^D - E[p_t^{RC}]) \\frac{\\delta \\mu_t}{1 - \\delta \\mu_t} + (p^D - \\overline{p})(1 - \\phi) \\frac{\\delta}{1 - \\delta} \\frac{1 - \\mu_t}{1 - \\delta \\mu_t}.\n",
    "\\end{align*}\n"
   ]
  },
  {
   "cell_type": "markdown",
   "id": "57e0d3d7-1f4d-4571-8791-15bdea2feb6c",
   "metadata": {},
   "source": [
    "With this, the dynamic incentive compatibility constraint is\n",
    "\\begin{align*}\n",
    "    &\\qquad (p^D - E[p^{RC}]) \\frac{\\delta \\mu_t}{1 - \\delta \\mu_t} + (p^D - \\overline{p})(1 - \\phi) \\frac{\\delta}{1 - \\delta} \\frac{1 - \\mu_t}{1 - \\delta \\mu_t} - \\frac{\\delta}{1 - \\delta} (p^D - \\overline{p})(1 - \\phi) \\ge (p^D - p_t)(1 - \\phi) - (p^D - p_t^{RC}) \\\\\n",
    "    &\\Leftrightarrow (p^D - E[p^{RC}]) \\frac{\\delta \\mu_t}{1 - \\delta \\mu_t} - (p^D - \\overline{p})(1 - \\phi) \\frac{\\delta \\mu_t}{1 - \\delta \\mu_t} \\ge (p^D - p_t)(1 - \\phi) - (p^D - p_t^{RC}) \\\\\n",
    "    &\\Leftrightarrow p^{RC} \\le \\frac{1}{1 - \\delta \\mu_t} \\phi p^D + (1 - \\phi) \\left( \\frac{\\delta \\mu_t}{1 - \\delta \\mu_t} \\overline{p} + p_t \\right) - \\frac{\\delta \\mu_t}{1 - \\delta \\mu_t} E [p_t^{RC}].\n",
    "\\end{align*}"
   ]
  },
  {
   "cell_type": "markdown",
   "id": "08373bd2-dcbe-48da-8d0c-13995aba5069",
   "metadata": {},
   "source": [
    "### Sellers"
   ]
  },
  {
   "cell_type": "markdown",
   "id": "a0995014-f7f5-40d3-8e52-576a6a20bc4d",
   "metadata": {},
   "source": [
    "I use the same probability of continuing a relational contract, $\\mu_t$, derived for buyers.\n",
    "\n",
    "To consider the seller's expected discounted payoff under relational contracts, with learning taken into account, first consider the discounted profit if reneged in $\\tau \\ge 1$ period:\n",
    "$$\n",
    "    \\sum_{s = 1}^{\\tau - 1} E[p_t^{RC}] \\delta^s + \\sum_{s = \\tau}^{\\infty} \\overline{p} \\delta^s,\n",
    "$$\n",
    "where the first term is the discounted profit from period 1 to $\\tau - 1$ through the relational contract, and the second term is the profit from period $\\tau$ onward on the spot market.\n",
    "Here I let $\\sum_{s = 1}^{0} E[p_t^{RC}] \\delta^s \\equiv 0$.\n",
    "The formula can be transformed as \n",
    "$$\n",
    "     E[p_t^{RC}] \\frac{\\delta (1 - \\delta^{\\tau - 1})}{1 - \\delta} + \\overline{p} \\frac{\\delta^{\\tau}}{1 - \\delta}.\n",
    "$$\n",
    "This occurs at probability $\\mu_t^{\\tau - 1} (1 - \\mu_t)$."
   ]
  },
  {
   "cell_type": "markdown",
   "id": "06de2991-83c7-48e8-8411-5498b8600f92",
   "metadata": {},
   "source": [
    "Therefore, the expected discounted payoff under a relational contract is\n",
    "\\begin{align*}\n",
    "    &\\qquad \\sum_{\\tau=1}^{\\infty} \\left( E[p_t^{RC}] \\frac{\\delta (1 - \\delta^{\\tau - 1})}{1 - \\delta} + \\overline{p} \\frac{\\delta^{\\tau}}{1 - \\delta} \\right) \\mu_t^{\\tau - 1} (1 - \\mu_t) \\\\\n",
    "    &= E[p_t^{RC}] \\frac{\\delta}{1 - \\delta} (1 - \\mu_t) \\sum_{\\tau=1}^{\\infty} \\mu_t^{\\tau - 1} \\\\\n",
    "    &\\quad - E[p_t^{RC}] \\frac{\\delta}{1 - \\delta} (1 - \\mu_t) \\sum_{\\tau=1}^{\\infty} (\\delta \\mu_t)^{\\tau - 1} \\\\\n",
    "    &\\quad + \\overline{p} \\frac{\\delta}{1 - \\delta} (1 - \\mu_t) \\sum_{\\tau=1}^{\\infty} (\\delta \\mu_t)^{\\tau - 1} \\\\\n",
    "    &= E[p_t^{RC}] \\frac{\\delta \\mu_t}{1 - \\delta \\mu_t} + \\overline{p} \\frac{\\delta}{1 - \\delta} \\frac{1 - \\mu_t}{1 - \\delta \\mu_t}.\n",
    "\\end{align*}\n",
    "\n",
    "With this, the dynamic incentive compatibility constraint is\n",
    "\\begin{align*}\n",
    "    &\\qquad E[p_t^{RC}] \\frac{\\delta \\mu_t}{1 - \\delta \\mu_t} + \\overline{p} \\frac{\\delta}{1 - \\delta} \\frac{1 - \\mu_t}{1 - \\delta \\mu_t} - \\frac{\\delta}{1 - \\delta} \\overline{p} \\ge p_h - p_t^{RC} \\\\\n",
    "    &\\Leftrightarrow E[p_t^{RC}] \\frac{\\delta \\mu_t}{1 - \\delta \\mu_t} - \\overline{p} \\frac{\\delta \\mu_t}{1 - \\delta \\mu_t} \\ge p_h - p_t^{RC} \\\\\n",
    "    &\\Leftrightarrow p_t^{RC} \\ge p_t - \\frac{\\delta \\mu_t}{1 - \\delta \\mu_t} \\left( E[p_t^{RC}] - \\overline{p} \\right).\n",
    "\\end{align*}"
   ]
  },
  {
   "cell_type": "markdown",
   "id": "ceebbdb2-5574-4b72-b56a-a184d7b3c8b4",
   "metadata": {},
   "source": [
    "### Conditions when sellers take all the surpluses"
   ]
  },
  {
   "cell_type": "markdown",
   "id": "d241f838-75db-43d5-bff2-49e90166b17a",
   "metadata": {},
   "source": [
    "Notice that the conditions are different from the previous model only in $\\delta$ and $\\delta \\mu_t$.\n",
    "Hence, assuming that the seller takes all the surpluses and the buyer's dynamic incentive compatibility constraint binds, I get\n",
    "So that the expected future relational contract price is consistent, take the expectations on both sides:\n",
    "$$\n",
    "    E[p_t^{RC}] = \\phi p^D + (1 - \\phi) \\overline{p},\n",
    "$$\n",
    "and from the binding incentive compatibility constraint,\n",
    "$$\n",
    "    p_t^{RC} = \\frac{1}{1 - \\delta \\mu_t} \\phi p^D + (1 - \\phi) \\left( \\frac{\\delta \\mu_t}{1 - \\delta \\mu_t} \\overline{p} + p_t \\right) - \\frac{\\delta \\mu_t}{1 - \\delta \\mu_t} \\left( \\phi p^D + (1 - \\phi) \\overline{p} \\right) = \\phi p^D + (1 - \\phi) p_t.\n",
    "$$\n"
   ]
  },
  {
   "cell_type": "markdown",
   "id": "3843c7c1-5bca-4036-a71a-2fc30af8bf02",
   "metadata": {},
   "source": [
    "On the seller's side, the incentive compatibility constraint becomes\n",
    "$$\n",
    "    p_t^{RC} \\ge p_t - \\frac{\\delta \\mu_t \\phi }{1 - \\delta \\mu_t} \\left( p^D - \\overline{p} \\right),\n",
    "$$\n",
    "and this is satisfied if\n",
    "\\begin{align*}\n",
    "    &\\qquad \\phi p^D + (1 - \\phi) p_t \\ge p_t - \\frac{\\delta \\mu_t \\phi }{1 - \\delta \\mu_t} \\left( p^D - \\overline{p} \\right) \\\\\n",
    "    &\\Leftrightarrow \\phi \\left( \\left( p^D - p_t \\right) + \\frac{\\delta \\mu_t }{1 - \\delta \\mu_t} \\left(p^D - \\overline{p} \\right) \\right) \\ge 0.\n",
    "\\end{align*}\n",
    "Since $p^D > p_t$ and $p^D > \\overline{p}$, this always holds."
   ]
  },
  {
   "cell_type": "markdown",
   "id": "a4a8d28b-c3d3-416d-b18c-f70e1bae3e95",
   "metadata": {},
   "source": [
    "### Higher relational contract price than spot market price\n",
    "\n",
    "Since $p_t^{RC} = \\phi p^D + (1 - \\phi) p_t$, that is, the relational contract price is a weighted average of the downstream market price and the spot market price, and $p^D > p_t$, we obtain $p_t^{RC} > p_t$.\n"
   ]
  },
  {
   "cell_type": "markdown",
   "id": "6eb32dca-2448-49de-bfb2-79ea387686a8",
   "metadata": {},
   "source": [
    "### Higher relational contract price than spot market price\n",
    "\n",
    "Since $p_t^{RC} = \\phi p^D + (1 - \\phi) p_t$, that is, the relational contract price is a weighted average of the downstream market price and the spot market price, and $p^D > p_t$, we obtain $p_t^{RC} > p_t$.\n"
   ]
  },
  {
   "cell_type": "markdown",
   "id": "31c8e5e8-57a9-4931-af2a-a8c2506bcb09",
   "metadata": {},
   "source": [
    "### Relational contract price varying with spot-market price\n",
    "\n",
    "Again, since $p_t^{RC} = \\phi p^D + (1 - \\phi) p_t$, as the market price rises, the relational contract price rises as well, and vice versa.\n"
   ]
  },
  {
   "cell_type": "markdown",
   "id": "a88652a4-61ae-43d8-8013-093a3e968ee8",
   "metadata": {},
   "source": [
    "### Suppressed relational contract price premium\n",
    "\n",
    "From $p_t^{RC} = \\phi p^D + (1 - \\phi) p_t$, I obtain $p_t^{RC} - p_t = \\phi p^D - \\phi p_t$.\n",
    "That is, the relational contract price premium, which is the difference between the relational contract price and the spot market price, is a decreasing function of the spot market price."
   ]
  }
 ],
 "metadata": {
  "kernelspec": {
   "display_name": "base_env",
   "language": "python",
   "name": "base_env"
  },
  "language_info": {
   "codemirror_mode": {
    "name": "ipython",
    "version": 3
   },
   "file_extension": ".py",
   "mimetype": "text/x-python",
   "name": "python",
   "nbconvert_exporter": "python",
   "pygments_lexer": "ipython3",
   "version": "3.9.18"
  }
 },
 "nbformat": 4,
 "nbformat_minor": 5
}
